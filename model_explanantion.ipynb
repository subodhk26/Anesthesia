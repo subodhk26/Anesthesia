{
 "cells": [
  {
   "cell_type": "markdown",
   "metadata": {},
   "source": [
    "# Model Explanation\n",
    "\n",
    "For simplicity, I'll just use feature importance of RF. More advanced stages of the project should use SHAP methodology to evaluate all models."
   ]
  },
  {
   "cell_type": "code",
   "execution_count": null,
   "metadata": {},
   "outputs": [],
   "source": [
    "#Basic libraries\n",
    "import os\n",
    "import time\n",
    "import datetime\n",
    "import pandas as pd\n",
    "import numpy as np\n",
    "import matplotlib.pyplot as plt\n",
    "import warnings\n",
    "warnings.filterwarnings('ignore')\n",
    "\n",
    "\n",
    "#Machine Learning libraries\n",
    "from sklearn.metrics import confusion_matrix,accuracy_score,roc_curve,auc\n",
    "from sklearn.ensemble import RandomForestClassifier\n",
    "from sklearn.neighbors import KNeighborsClassifier\n",
    "from sklearn.svm import SVC"
   ]
  },
  {
   "cell_type": "code",
   "execution_count": null,
   "metadata": {},
   "outputs": [],
   "source": [
    "#train data\n",
    "train_X_bis=pd.read_csv('data\\Data_model\\\\train_X_BIS.csv',header=None,index_col=False).values\n",
    "train_X_mov=pd.read_csv('data\\Data_model\\\\train_X_MOV.csv',header=None,index_col=False).values\n",
    "train_X_nibp=pd.read_csv('data\\Data_model\\\\train_X_NIBP.csv',header=None,index_col=False).values\n",
    "\n",
    "train_y_bis=pd.read_csv('data\\Data_model\\\\train_y_BIS.csv',header=None,index_col=False)[0].tolist()\n",
    "train_y_mov=pd.read_csv('data\\Data_model\\\\train_y_MOV.csv',header=None,index_col=False)[0].tolist()\n",
    "train_y_nibp=pd.read_csv('data\\Data_model\\\\train_y_NIBP.csv',header=None,index_col=False)[0].tolist()\n",
    "\n",
    "\n",
    "#test data\n",
    "test_X_bis=pd.read_csv('data\\Data_model\\\\test_X_BIS.csv',header=None,index_col=False).values\n",
    "test_X_mov=pd.read_csv('data\\Data_model\\\\test_X_MOV.csv',header=None,index_col=False).values\n",
    "test_X_nibp=pd.read_csv('data\\Data_model\\\\test_X_NIBP.csv',header=None,index_col=False).values\n",
    "\n",
    "test_y_bis=pd.read_csv('data\\Data_model\\\\test_y_BIS.csv',header=None,index_col=False)[0].tolist()\n",
    "test_y_mov=pd.read_csv('data\\Data_model\\\\test_y_MOV.csv',header=None,index_col=False)[0].tolist()\n",
    "test_y_nibp=pd.read_csv('data\\Data_model\\\\test_y_NIBP.csv',header=None,index_col=False)[0].tolist()"
   ]
  },
  {
   "cell_type": "code",
   "execution_count": null,
   "metadata": {},
   "outputs": [],
   "source": [
    "#bis\n",
    "model_rf_bis = RandomForestClassifier(n_estimators=200,min_samples_split=5,min_samples_leaf=4,max_depth=10,n_jobs=-1,random_state=42)\n",
    "model_rf_bis.fit(train_X_bis, train_y_bis)\n",
    "\n",
    "#mov\n",
    "model_rf_mov = RandomForestClassifier(n_estimators=400,max_depth=30,min_samples_split=10,min_samples_leaf=2,n_jobs=-1,random_state=42)\n",
    "model_rf_mov.fit(train_X_mov, train_y_mov)\n",
    "\n",
    "#nibp\n",
    "model_rf_nibp = RandomForestClassifier(n_estimators=100,min_samples_split=5,min_samples_leaf=2,max_depth=10,n_jobs=-1,random_state=42)\n",
    "model_rf_nibp.fit(train_X_nibp, train_y_nibp)"
   ]
  },
  {
   "cell_type": "code",
   "execution_count": null,
   "metadata": {},
   "outputs": [],
   "source": [
    "predictors=['BIS', 'EMGBIS',\n",
    "    'BSBIS', 'SQI09', 'CpREMI', 'CeREMI', 'InfVolREMI', 'InfRateREMI',\n",
    "    'CpPROPO', 'CePROPO', 'InfVolPROPO', 'InfRatePROPO', 'Age',\n",
    "    'Height', 'Weight', 'LBM', 'BSA', 'HR', 'NIBPsys',\n",
    "    'NIBPdia', 'NIBPmean', 'RespiRate', 'SPO2', \n",
    "    'qCON', 'qCONEMG', 'qCONBS', 'qCONSQI', 'qCONqNOX']+[str(i)+'Hz' for i in range(31)]"
   ]
  },
  {
   "cell_type": "code",
   "execution_count": null,
   "metadata": {},
   "outputs": [],
   "source": [
    "importance = pd.DataFrame([predictors,\n",
    "              model_rf_bis.feature_importances_,\n",
    "              model_rf_mov.feature_importances_,\n",
    "              model_rf_nibp.feature_importances_]).transpose()\n",
    "importance.columns=['Predictor','BIS','MOV','NIBP']"
   ]
  },
  {
   "cell_type": "code",
   "execution_count": null,
   "metadata": {},
   "outputs": [],
   "source": [
    "importance.to_csv('results\\\\feature_importance.csv',index=False)"
   ]
  }
 ],
 "metadata": {
  "kernelspec": {
   "display_name": "Python 3",
   "language": "python",
   "name": "python3"
  },
  "language_info": {
   "codemirror_mode": {
    "name": "ipython",
    "version": 3
   },
   "file_extension": ".py",
   "mimetype": "text/x-python",
   "name": "python",
   "nbconvert_exporter": "python",
   "pygments_lexer": "ipython3",
   "version": "3.7.3"
  }
 },
 "nbformat": 4,
 "nbformat_minor": 2
}
